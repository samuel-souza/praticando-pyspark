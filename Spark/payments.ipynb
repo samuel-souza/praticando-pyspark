{
 "cells": [
  {
   "cell_type": "code",
   "execution_count": 174,
   "metadata": {},
   "outputs": [],
   "source": [
    "# import findspark\n",
    "from pyspark.sql import SparkSession\n",
    "from pyspark.sql.types import DoubleType, DecimalType\n",
    "from pyspark.sql import functions as f\n",
    "import warnings \n",
    "warnings.filterwarnings('ignore') \n",
    "import matplotlib.pyplot as plt\n",
    "import getpass\n",
    "\n",
    "# findspark.init()\n",
    "spark = SparkSession.builder.getOrCreate()"
   ]
  },
  {
   "cell_type": "code",
   "execution_count": 2,
   "metadata": {},
   "outputs": [
    {
     "data": {
      "text/html": [
       "\n",
       "            <div>\n",
       "                <p><b>SparkSession - in-memory</b></p>\n",
       "                \n",
       "        <div>\n",
       "            <p><b>SparkContext</b></p>\n",
       "\n",
       "            <p><a href=\"http://DESKTOP-8RSP3AB:4040\">Spark UI</a></p>\n",
       "\n",
       "            <dl>\n",
       "              <dt>Version</dt>\n",
       "                <dd><code>v3.5.0</code></dd>\n",
       "              <dt>Master</dt>\n",
       "                <dd><code>local[*]</code></dd>\n",
       "              <dt>AppName</dt>\n",
       "                <dd><code>pyspark-shell</code></dd>\n",
       "            </dl>\n",
       "        </div>\n",
       "        \n",
       "            </div>\n",
       "        "
      ],
      "text/plain": [
       "<pyspark.sql.session.SparkSession at 0x16484639790>"
      ]
     },
     "execution_count": 2,
     "metadata": {},
     "output_type": "execute_result"
    }
   ],
   "source": [
    "spark"
   ]
  },
  {
   "cell_type": "code",
   "execution_count": 3,
   "metadata": {},
   "outputs": [],
   "source": [
    "# Conectando ao banco de dados e lendo a tabela\n",
    "\n",
    "driver = 'com.microsoft.sqlserver.jdbc.SQLServerDriver'\n",
    "username = 'sa'\n",
    "password = getpass.getpass('password: ')\n",
    "db = 'Olist'\n",
    "server = 'DESKTOP-8RSP3AB'\n",
    "port = '1433'\n",
    "\n",
    "df = spark.read \\\n",
    "  .format('jdbc') \\\n",
    "  .option(\"url\", f\"jdbc:sqlserver://{server}:{port};databaseName={db};trustServerCertificate=true\") \\\n",
    "  .option(\"dbtable\", \"[dbo].[olist_order_payments]\") \\\n",
    "  .option('driver', driver) \\\n",
    "  .option(\"user\", username) \\\n",
    "  .option(\"password\", password) \\\n",
    "  .load()"
   ]
  },
  {
   "cell_type": "code",
   "execution_count": 4,
   "metadata": {},
   "outputs": [
    {
     "name": "stdout",
     "output_type": "stream",
     "text": [
      "+--------------------+------------------+------------+--------------------+-------------+\n",
      "|            order_id|payment_sequential|payment_type|payment_installments|payment_value|\n",
      "+--------------------+------------------+------------+--------------------+-------------+\n",
      "|b81ef226f3fe1789b...|                 1| credit_card|                   8|        99.33|\n",
      "|a9810da82917af2d9...|                 1| credit_card|                   1|        24.39|\n",
      "|25e8ea4e93396b6fa...|                 1| credit_card|                   1|        65.71|\n",
      "|ba78997921bbcdc13...|                 1| credit_card|                   8|       107.78|\n",
      "|42fdf880ba16b47b5...|                 1| credit_card|                   2|       128.45|\n",
      "+--------------------+------------------+------------+--------------------+-------------+\n",
      "\n"
     ]
    }
   ],
   "source": [
    "df.limit(5).show()"
   ]
  },
  {
   "cell_type": "code",
   "execution_count": 8,
   "metadata": {},
   "outputs": [
    {
     "name": "stdout",
     "output_type": "stream",
     "text": [
      "root\n",
      " |-- order_id: string (nullable = true)\n",
      " |-- payment_sequential: string (nullable = true)\n",
      " |-- payment_type: string (nullable = true)\n",
      " |-- payment_installments: string (nullable = true)\n",
      " |-- payment_value: string (nullable = true)\n",
      "\n"
     ]
    }
   ],
   "source": [
    "# verificando as colunas e os tipos\n",
    "df.printSchema()"
   ]
  },
  {
   "cell_type": "markdown",
   "metadata": {},
   "source": [
    "### Entendendo a base"
   ]
  },
  {
   "cell_type": "markdown",
   "metadata": {},
   "source": [
    "A base possui 103.886 linhas e 5 colunas, sendo elas:\n",
    "\n",
    "- **order_id**: Identificador único das vendas\n",
    "- **payment_sequential**: Quantidade de métodos de pagamentos utilizados no pedido\n",
    "- **payment_type**: Método de pagamento utilizado\n",
    "- **payment_installments**: Número de parcelas\n",
    "- **payment_value**: Valor do pagamento"
   ]
  },
  {
   "cell_type": "code",
   "execution_count": 340,
   "metadata": {},
   "outputs": [
    {
     "data": {
      "text/plain": [
       "103886"
      ]
     },
     "execution_count": 340,
     "metadata": {},
     "output_type": "execute_result"
    }
   ],
   "source": [
    "# Quantidade de linhas na base\n",
    "\n",
    "df.count()"
   ]
  },
  {
   "cell_type": "code",
   "execution_count": 46,
   "metadata": {},
   "outputs": [
    {
     "name": "stdout",
     "output_type": "stream",
     "text": [
      "+--------+------------------+------------+--------------------+-------------+\n",
      "|order_id|payment_sequential|payment_type|payment_installments|payment_value|\n",
      "+--------+------------------+------------+--------------------+-------------+\n",
      "|       0|                 0|           0|                   0|            0|\n",
      "+--------+------------------+------------+--------------------+-------------+\n",
      "\n"
     ]
    }
   ],
   "source": [
    "# Quantidade de linhas com valores nulos por coluna\n",
    "\n",
    "df.select(\n",
    "    [f.count( f.when( f.isnull( column ), 1 ) ).alias( column ) for column in df.columns]\n",
    ").show()"
   ]
  },
  {
   "cell_type": "code",
   "execution_count": 6,
   "metadata": {},
   "outputs": [
    {
     "name": "stdout",
     "output_type": "stream",
     "text": [
      "+--------+------------------+------------+--------------------+-------------+\n",
      "|order_id|payment_sequential|payment_type|payment_installments|payment_value|\n",
      "+--------+------------------+------------+--------------------+-------------+\n",
      "+--------+------------------+------------+--------------------+-------------+\n",
      "\n"
     ]
    }
   ],
   "source": [
    "# verificando se existem valores (float) na coluna 'payment_value' que possuem vírgula\n",
    " \n",
    "df.withColumn('payment_value', f.regexp_extract('payment_value', r'\\d,\\d', 0)).filter(\" payment_value != '' \").show()"
   ]
  },
  {
   "cell_type": "code",
   "execution_count": 7,
   "metadata": {},
   "outputs": [
    {
     "name": "stdout",
     "output_type": "stream",
     "text": [
      "root\n",
      " |-- order_id: string (nullable = true)\n",
      " |-- payment_sequential: string (nullable = true)\n",
      " |-- payment_type: string (nullable = true)\n",
      " |-- payment_installments: string (nullable = true)\n",
      " |-- payment_value: double (nullable = true)\n",
      "\n"
     ]
    }
   ],
   "source": [
    "# transformando a variável em double \n",
    "\n",
    "df = df.withColumn('payment_value',df.payment_value.cast(DoubleType()))\n",
    "df.withColumn('payment_value',df.payment_value.cast(DoubleType())).printSchema()"
   ]
  },
  {
   "cell_type": "code",
   "execution_count": 61,
   "metadata": {},
   "outputs": [
    {
     "name": "stdout",
     "output_type": "stream",
     "text": [
      "+------------+\n",
      "|payment_type|\n",
      "+------------+\n",
      "|      boleto|\n",
      "| not_defined|\n",
      "| credit_card|\n",
      "|     voucher|\n",
      "|  debit_card|\n",
      "+------------+\n",
      "\n"
     ]
    }
   ],
   "source": [
    "# Tipos de pagamento\n",
    "\n",
    "df \\\n",
    "    .select(df.payment_type)\\\n",
    "    .distinct()\\\n",
    "    .show()"
   ]
  },
  {
   "cell_type": "code",
   "execution_count": 184,
   "metadata": {},
   "outputs": [
    {
     "data": {
      "text/html": [
       "<div>\n",
       "<style scoped>\n",
       "    .dataframe tbody tr th:only-of-type {\n",
       "        vertical-align: middle;\n",
       "    }\n",
       "\n",
       "    .dataframe tbody tr th {\n",
       "        vertical-align: top;\n",
       "    }\n",
       "\n",
       "    .dataframe thead th {\n",
       "        text-align: right;\n",
       "    }\n",
       "</style>\n",
       "<table border=\"1\" class=\"dataframe\">\n",
       "  <thead>\n",
       "    <tr style=\"text-align: right;\">\n",
       "      <th></th>\n",
       "      <th>qtd_pedidos</th>\n",
       "      <th>vl_total</th>\n",
       "    </tr>\n",
       "    <tr>\n",
       "      <th>payment_type</th>\n",
       "      <th></th>\n",
       "      <th></th>\n",
       "    </tr>\n",
       "  </thead>\n",
       "  <tbody>\n",
       "    <tr>\n",
       "      <th>credit_card</th>\n",
       "      <td>76795</td>\n",
       "      <td>12542084.19</td>\n",
       "    </tr>\n",
       "    <tr>\n",
       "      <th>boleto</th>\n",
       "      <td>19784</td>\n",
       "      <td>2869361.27</td>\n",
       "    </tr>\n",
       "    <tr>\n",
       "      <th>voucher</th>\n",
       "      <td>5775</td>\n",
       "      <td>379436.87</td>\n",
       "    </tr>\n",
       "    <tr>\n",
       "      <th>debit_card</th>\n",
       "      <td>1529</td>\n",
       "      <td>217989.79</td>\n",
       "    </tr>\n",
       "    <tr>\n",
       "      <th>not_defined</th>\n",
       "      <td>3</td>\n",
       "      <td>0.00</td>\n",
       "    </tr>\n",
       "  </tbody>\n",
       "</table>\n",
       "</div>"
      ],
      "text/plain": [
       "              qtd_pedidos     vl_total\n",
       "payment_type                          \n",
       "credit_card         76795  12542084.19\n",
       "boleto              19784   2869361.27\n",
       "voucher              5775    379436.87\n",
       "debit_card           1529    217989.79\n",
       "not_defined             3         0.00"
      ]
     },
     "execution_count": 184,
     "metadata": {},
     "output_type": "execute_result"
    }
   ],
   "source": [
    "# Quantidade de pedidos e valor por cada categoria de método de pagamento \n",
    "\n",
    "df_payment_type = df\\\n",
    "    .select('payment_type','order_id','payment_value')\\\n",
    "    .groupBy('payment_type')\\\n",
    "    .agg(\n",
    "        f.count('order_id').alias('qtd_pedidos'),\n",
    "        f.sum('payment_value').cast(DecimalType(18, 2)).alias('vl_total')\n",
    "    )\\\n",
    "    .orderBy('vl_total', ascending = False)\\\n",
    "    .toPandas()\\\n",
    "    .set_index('payment_type')\n",
    "\n",
    "df_payment_type"
   ]
  },
  {
   "cell_type": "markdown",
   "metadata": {},
   "source": [
    "- 3 pedidos não possuem método de pagamento definido e possuem juntos um valor de 0. "
   ]
  },
  {
   "cell_type": "code",
   "execution_count": 205,
   "metadata": {},
   "outputs": [
    {
     "data": {
      "image/png": "[encoded data removed]",
      "text/plain": [
       "<Figure size 1200x800 with 1 Axes>"
      ]
     },
     "metadata": {},
     "output_type": "display_data"
    }
   ],
   "source": [
    "fig = plt.figure(figsize = (12,8))\n",
    "\n",
    "\n",
    "plt.title('Quantidade de pedidos por método de pagamento \\n', fontsize = 18, fontweight = 'bold', fontfamily = 'arial', loc = 'left')\n",
    "plt.gca().spines['top'].set_visible(False)\n",
    "plt.gca().spines['right'].set_visible(False)\n",
    "plt.gca().xaxis.set_tick_params(labelsize = 9, rotation = 45)\n",
    "plt.gca().yaxis.set_tick_params(labelsize = 9)\n",
    "plt.grid(True, axis = 'y', linewidth = .3)\n",
    "\n",
    "plt.bar(x = df_payment_type.index, height = df_payment_type.qtd_pedidos, color = 'mediumblue');"
   ]
  },
  {
   "cell_type": "markdown",
   "metadata": {},
   "source": [
    "- Cartão de crédito forma maioria em volumetria de pedidos."
   ]
  },
  {
   "cell_type": "code",
   "execution_count": 214,
   "metadata": {},
   "outputs": [
    {
     "data": {
      "text/html": [
       "<div>\n",
       "<style scoped>\n",
       "    .dataframe tbody tr th:only-of-type {\n",
       "        vertical-align: middle;\n",
       "    }\n",
       "\n",
       "    .dataframe tbody tr th {\n",
       "        vertical-align: top;\n",
       "    }\n",
       "\n",
       "    .dataframe thead th {\n",
       "        text-align: right;\n",
       "    }\n",
       "</style>\n",
       "<table border=\"1\" class=\"dataframe\">\n",
       "  <thead>\n",
       "    <tr style=\"text-align: right;\">\n",
       "      <th></th>\n",
       "      <th>payment_value</th>\n",
       "    </tr>\n",
       "  </thead>\n",
       "  <tbody>\n",
       "    <tr>\n",
       "      <th>count</th>\n",
       "      <td>103886.00</td>\n",
       "    </tr>\n",
       "    <tr>\n",
       "      <th>mean</th>\n",
       "      <td>154.10</td>\n",
       "    </tr>\n",
       "    <tr>\n",
       "      <th>std</th>\n",
       "      <td>217.49</td>\n",
       "    </tr>\n",
       "    <tr>\n",
       "      <th>min</th>\n",
       "      <td>0.00</td>\n",
       "    </tr>\n",
       "    <tr>\n",
       "      <th>25%</th>\n",
       "      <td>56.79</td>\n",
       "    </tr>\n",
       "    <tr>\n",
       "      <th>50%</th>\n",
       "      <td>100.00</td>\n",
       "    </tr>\n",
       "    <tr>\n",
       "      <th>75%</th>\n",
       "      <td>171.84</td>\n",
       "    </tr>\n",
       "    <tr>\n",
       "      <th>max</th>\n",
       "      <td>13664.08</td>\n",
       "    </tr>\n",
       "  </tbody>\n",
       "</table>\n",
       "</div>"
      ],
      "text/plain": [
       "       payment_value\n",
       "count      103886.00\n",
       "mean          154.10\n",
       "std           217.49\n",
       "min             0.00\n",
       "25%            56.79\n",
       "50%           100.00\n",
       "75%           171.84\n",
       "max         13664.08"
      ]
     },
     "execution_count": 214,
     "metadata": {},
     "output_type": "execute_result"
    }
   ],
   "source": [
    "# Estatísticas básicas para o valor dos pedidos\n",
    "\n",
    "df.select('payment_value').toPandas().describe().round(2)"
   ]
  },
  {
   "cell_type": "markdown",
   "metadata": {},
   "source": [
    "- O valor médio de um pedido é de R$ 154.10, com um desvio padrão de R$217.49, mostrando uma variação relativamente alta entre os valores dos pedidos. Isso fica mais evidente quando olhamos para a diferença entre o quantil 75 (ou terceiro quartil) e o valor máximo."
   ]
  },
  {
   "cell_type": "code",
   "execution_count": 162,
   "metadata": {},
   "outputs": [
    {
     "name": "stdout",
     "output_type": "stream",
     "text": [
      "maior valor pagamento em >boleto< : 7274.88\n",
      "maior valor pagamento em >not_defined< : 0.0\n",
      "maior valor pagamento em >credit_card< : 13664.08\n",
      "maior valor pagamento em >voucher< : 3184.34\n",
      "maior valor pagamento em >debit_card< : 4445.5\n"
     ]
    }
   ],
   "source": [
    "# Filtrando maiores valores em cada meio de pagamento\n",
    "\n",
    "for type in list(df.select('payment_type').distinct().toPandas()['payment_type']):\n",
    "    print(f'maior valor pagamento em >{type}< : {df.where(df.payment_type == type).select(f.max(df.payment_value)).collect()[0][0]}')"
   ]
  },
  {
   "cell_type": "markdown",
   "metadata": {},
   "source": [
    "# Produtos mais vendidos e valor por produtos (tabela de produtos)"
   ]
  },
  {
   "cell_type": "code",
   "execution_count": 224,
   "metadata": {},
   "outputs": [],
   "source": [
    "# tabela de produtos\n",
    "df_prod = spark.read \\\n",
    "  .format('jdbc') \\\n",
    "  .option(\"url\", f\"jdbc:sqlserver://{server}:{port};databaseName={db};trustServerCertificate=true\") \\\n",
    "  .option(\"dbtable\", \"[dbo].[olist_products]\") \\\n",
    "  .option('driver', driver) \\\n",
    "  .option(\"user\", username) \\\n",
    "  .option(\"password\", password) \\\n",
    "  .load()\n",
    "\n",
    "# tabela de vendas\n",
    "df_ord = spark.read \\\n",
    "  .format('jdbc') \\\n",
    "  .option(\"url\", f\"jdbc:sqlserver://{server}:{port};databaseName={db};trustServerCertificate=true\") \\\n",
    "  .option(\"dbtable\", \"[dbo].[olist_orders]\") \\\n",
    "  .option('driver', driver) \\\n",
    "  .option(\"user\", username) \\\n",
    "  .option(\"password\", password) \\\n",
    "  .load()\n",
    "\n",
    "# tabela de items\n",
    "df_items = spark.read \\\n",
    "  .format('jdbc') \\\n",
    "  .option(\"url\", f\"jdbc:sqlserver://{server}:{port};databaseName={db};trustServerCertificate=true\") \\\n",
    "  .option(\"dbtable\", \"[dbo].[olist_order_items]\") \\\n",
    "  .option('driver', driver) \\\n",
    "  .option(\"user\", username) \\\n",
    "  .option(\"password\", password) \\\n",
    "  .load()"
   ]
  },
  {
   "cell_type": "code",
   "execution_count": 219,
   "metadata": {},
   "outputs": [
    {
     "name": "stdout",
     "output_type": "stream",
     "text": [
      "+--------------------+---------------------+-------------------+--------------------------+------------------+----------------+-----------------+-----------------+----------------+\n",
      "|          product_id|product_category_name|product_name_lenght|product_description_lenght|product_photos_qty|product_weight_g|product_length_cm|product_height_cm|product_width_cm|\n",
      "+--------------------+---------------------+-------------------+--------------------------+------------------+----------------+-----------------+-----------------+----------------+\n",
      "|1e9e8ef04dbcff454...|           perfumaria|                 40|                       287|                 1|             225|               16|               10|              14|\n",
      "|3aa071139cb16b67c...|                artes|                 44|                       276|                 1|            1000|               30|               18|              20|\n",
      "|96bd76ec8810374ed...|        esporte_lazer|                 46|                       250|                 1|             154|               18|                9|              15|\n",
      "|cef67bcfe19066a93...|                bebes|                 27|                       261|                 1|             371|               26|                4|              26|\n",
      "|9dc1a7de274444849...| utilidades_domest...|                 37|                       402|                 4|             625|               20|               17|              13|\n",
      "+--------------------+---------------------+-------------------+--------------------------+------------------+----------------+-----------------+-----------------+----------------+\n",
      "only showing top 5 rows\n",
      "\n"
     ]
    }
   ],
   "source": [
    "df_prod.show(5)"
   ]
  },
  {
   "cell_type": "code",
   "execution_count": 220,
   "metadata": {},
   "outputs": [
    {
     "name": "stdout",
     "output_type": "stream",
     "text": [
      "+--------------------+--------------------+------------+------------------------+-----------------+----------------------------+-----------------------------+-----------------------------+\n",
      "|            order_id|         customer_id|order_status|order_purchase_timestamp|order_approved_at|order_delivered_carrier_date|order_delivered_customer_date|order_estimated_delivery_date|\n",
      "+--------------------+--------------------+------------+------------------------+-----------------+----------------------------+-----------------------------+-----------------------------+\n",
      "|e481f51cbdc54678b...|9ef432eb625129730...|   delivered|        02/10/2017 10:56| 02/10/2017 11:07|            04/10/2017 19:55|             10/10/2017 21:25|             18/10/2017 00:00|\n",
      "|53cdb2fc8bc7dce0b...|b0830fb4747a6c6d2...|   delivered|        24/07/2018 20:41| 26/07/2018 03:24|            26/07/2018 14:31|             07/08/2018 15:27|             13/08/2018 00:00|\n",
      "|47770eb9100c2d0c4...|41ce2a54c0b03bf34...|   delivered|        08/08/2018 08:38| 08/08/2018 08:55|            08/08/2018 13:50|             17/08/2018 18:06|             04/09/2018 00:00|\n",
      "|949d5b44dbf5de918...|f88197465ea7920ad...|   delivered|        18/11/2017 19:28| 18/11/2017 19:45|            22/11/2017 13:39|             02/12/2017 00:28|             15/12/2017 00:00|\n",
      "|ad21c59c0840e6cb8...|8ab97904e6daea886...|   delivered|        13/02/2018 21:18| 13/02/2018 22:20|            14/02/2018 19:46|             16/02/2018 18:17|             26/02/2018 00:00|\n",
      "+--------------------+--------------------+------------+------------------------+-----------------+----------------------------+-----------------------------+-----------------------------+\n",
      "only showing top 5 rows\n",
      "\n"
     ]
    }
   ],
   "source": [
    "df_ord.show(5)"
   ]
  },
  {
   "cell_type": "code",
   "execution_count": 225,
   "metadata": {},
   "outputs": [
    {
     "name": "stdout",
     "output_type": "stream",
     "text": [
      "+--------------------+-------------+--------------------+--------------------+-------------------+------+-------------+\n",
      "|            order_id|order_item_id|          product_id|           seller_id|shipping_limit_date| price|freight_value|\n",
      "+--------------------+-------------+--------------------+--------------------+-------------------+------+-------------+\n",
      "|00010242fe8c5a6d1...|            1|4244733e06e7ecb49...|48436dade18ac8b2b...|   19/09/2017 09:45| 58.90|        13.29|\n",
      "|00018f77f2f0320c5...|            1|e5f2d52b802189ee6...|dd7ddc04e1b6c2c61...|   03/05/2017 11:05|239.90|        19.93|\n",
      "|000229ec398224ef6...|            1|c777355d18b72b67a...|5b51032eddd242adc...|   18/01/2018 14:48|199.00|        17.87|\n",
      "|00024acbcdf0a6daa...|            1|7634da152a4610f15...|9d7a1d34a50524090...|   15/08/2018 10:10| 12.99|        12.79|\n",
      "|00042b26cf59d7ce6...|            1|ac6c3623068f30de0...|df560393f3a51e745...|   13/02/2017 13:57|199.90|        18.14|\n",
      "+--------------------+-------------+--------------------+--------------------+-------------------+------+-------------+\n",
      "only showing top 5 rows\n",
      "\n"
     ]
    }
   ],
   "source": [
    "df_items.show(5)"
   ]
  },
  {
   "cell_type": "code",
   "execution_count": 238,
   "metadata": {},
   "outputs": [
    {
     "name": "stdout",
     "output_type": "stream",
     "text": [
      "+--------------------------------+------------+-----------------+------------+-------------+--------------------------------+-------------+------+-------------+---------------------+\n",
      "|order_id                        |order_status|order_approved_at|payment_type|payment_value|product_id                      |order_item_id|price |freight_value|product_category_name|\n",
      "+--------------------------------+------------+-----------------+------------+-------------+--------------------------------+-------------+------+-------------+---------------------+\n",
      "|00018f77f2f0320c557190d7a144bdd3|delivered   |26/04/2017 11:05 |credit_card |259.83       |e5f2d52b802189ee658865ca93d83a8f|1            |239.90|19.93        |pet_shop             |\n",
      "|00054e8431b9d7675808bcb819fb4a32|delivered   |10/12/2017 12:10 |credit_card |31.75        |8d4f2bb7e93e6710a28f34fa83ee7d28|1            |19.90 |11.85        |telefonia            |\n",
      "|000aed2e25dbad2f9ddb70584c5a2ded|delivered   |11/05/2018 20:57 |credit_card |152.77       |4fa33915031a8cde03dd0d3e8fb27f01|1            |144.00|8.77         |perfumaria           |\n",
      "|00310b0c75bb13015ec4d82d341865a4|canceled    |15/08/2018 15:04 |credit_card |55.28        |c8e7c2ef329fcda4a233e7e2f8bb8b7d|1            |39.90 |15.38        |utilidades_domesticas|\n",
      "|0032d07457ae9c806c79368d7d9ce96b|delivered   |10/03/2018 19:48 |credit_card |186.19       |08279c494018541f71443c07d77560f8|1            |159.00|27.19        |utilidades_domesticas|\n",
      "+--------------------------------+------------+-----------------+------------+-------------+--------------------------------+-------------+------+-------------+---------------------+\n",
      "only showing top 5 rows\n",
      "\n"
     ]
    }
   ],
   "source": [
    "# Montando tabela\n",
    "\n",
    "df_join = df\\\n",
    "    .join(df_ord, on = 'order_id', how = 'inner')\\\n",
    "    .select('*')\\\n",
    "    .join(df_items, on = 'order_id', how = 'inner')\\\n",
    "    .select('*')\\\n",
    "    .join(df_prod, on = 'product_id', how = 'inner')\\\n",
    "    .select(\n",
    "        df.order_id, \n",
    "        df_ord.order_status, \n",
    "        df_ord.order_approved_at, \n",
    "        df.payment_type, \n",
    "        df.payment_value, \n",
    "        df_items.product_id, \n",
    "        df_items.order_item_id, \n",
    "        df_items.price, \n",
    "        df_items.freight_value,\n",
    "        df_prod.product_category_name\n",
    "    )\n",
    "\n",
    "df_join.show(5, False)"
   ]
  },
  {
   "cell_type": "code",
   "execution_count": 246,
   "metadata": {},
   "outputs": [
    {
     "name": "stdout",
     "output_type": "stream",
     "text": [
      "+---------------------+\n",
      "|product_category_name|\n",
      "+---------------------+\n",
      "|                  pcs|\n",
      "|                bebes|\n",
      "|                artes|\n",
      "|            cine_foto|\n",
      "|     moveis_decoracao|\n",
      "|             pc_gamer|\n",
      "| construcao_ferram...|\n",
      "| tablets_impressao...|\n",
      "|    artigos_de_festas|\n",
      "| fashion_roupa_mas...|\n",
      "|     artigos_de_natal|\n",
      "|           la_cuisine|\n",
      "|               flores|\n",
      "|      livros_tecnicos|\n",
      "|       telefonia_fixa|\n",
      "| construcao_ferram...|\n",
      "|           cool_stuff|\n",
      "|     eletrodomesticos|\n",
      "|    livros_importados|\n",
      "|             pet_shop|\n",
      "+---------------------+\n",
      "only showing top 20 rows\n",
      "\n"
     ]
    }
   ],
   "source": [
    "# Categorias de produtos\n",
    "\n",
    "df_join.select('product_category_name').distinct().show()"
   ]
  },
  {
   "cell_type": "code",
   "execution_count": 308,
   "metadata": {},
   "outputs": [
    {
     "name": "stdout",
     "output_type": "stream",
     "text": [
      "+----------------+\n",
      "|qtd_prod_sem_cat|\n",
      "+----------------+\n",
      "|            1698|\n",
      "+----------------+\n",
      "\n"
     ]
    }
   ],
   "source": [
    "# Verificando se existem valores em branco na coluna de categoria do produto:\n",
    "\n",
    "df_join.createOrReplaceTempView('viewDF')\n",
    "\n",
    "spark.sql(\n",
    "'''\n",
    "SELECT \n",
    "    COUNT(product_category_name) AS qtd_prod_sem_cat\n",
    "FROM viewDF\n",
    "WHERE product_category_name = ''\n",
    "'''\n",
    ").show()"
   ]
  },
  {
   "cell_type": "code",
   "execution_count": 309,
   "metadata": {},
   "outputs": [
    {
     "name": "stdout",
     "output_type": "stream",
     "text": [
      "+----------------+\n",
      "|qtd_prod_sem_cat|\n",
      "+----------------+\n",
      "|            1698|\n",
      "+----------------+\n",
      "\n"
     ]
    }
   ],
   "source": [
    "spark.sql(\n",
    "'''\n",
    "SELECT\n",
    "    COUNT(product_category_name) AS qtd_prod_sem_cat\n",
    "FROM viewDF\n",
    "WHERE product_category_name = ' '\n",
    "'''\n",
    ").show()"
   ]
  },
  {
   "cell_type": "code",
   "execution_count": 302,
   "metadata": {},
   "outputs": [
    {
     "name": "stdout",
     "output_type": "stream",
     "text": [
      "+--------------------+------------+-----------------+------------+-------------+--------------------+-------------+------+-------------+---------------------+\n",
      "|            order_id|order_status|order_approved_at|payment_type|payment_value|          product_id|order_item_id| price|freight_value|product_category_name|\n",
      "+--------------------+------------+-----------------+------------+-------------+--------------------+-------------+------+-------------+---------------------+\n",
      "|00ed64bc080d87b4a...|   delivered| 31/05/2017 18:22| credit_card|        61.01|fbb1cfc2810efabf3...|            1| 44.90|        16.11|                     |\n",
      "|03ba96e3cd1a918f1...|   delivered| 29/11/2017 21:56| credit_card|        57.55|4914f8796af2ecd35...|            1| 49.77|         7.78|                     |\n",
      "|047723564a4f371af...|   delivered| 06/12/2017 19:15| credit_card|       299.39|f58e45b16a42a325c...|            1|279.99|        19.40|                     |\n",
      "|05bd0df2a2f8b3719...|   delivered| 05/12/2017 10:48| credit_card|         65.8|0c877471e35049402...|            1| 84.90|        30.90|                     |\n",
      "|05bd0df2a2f8b3719...|   delivered| 05/12/2017 10:48|     voucher|         50.0|0c877471e35049402...|            1| 84.90|        30.90|                     |\n",
      "+--------------------+------------+-----------------+------------+-------------+--------------------+-------------+------+-------------+---------------------+\n",
      "only showing top 5 rows\n",
      "\n"
     ]
    }
   ],
   "source": [
    "df_join.where(\"product_category_name = ''\").show(5)"
   ]
  },
  {
   "cell_type": "markdown",
   "metadata": {},
   "source": [
    "- Alguns pedidos não possuem categoria do produto associada"
   ]
  },
  {
   "cell_type": "code",
   "execution_count": 303,
   "metadata": {},
   "outputs": [
    {
     "name": "stdout",
     "output_type": "stream",
     "text": [
      "+--------+------------+-----------------+------------+-------------+----------+-------------+-----+-------------+---------------------+\n",
      "|order_id|order_status|order_approved_at|payment_type|payment_value|product_id|order_item_id|price|freight_value|product_category_name|\n",
      "+--------+------------+-----------------+------------+-------------+----------+-------------+-----+-------------+---------------------+\n",
      "|       0|           0|                0|           0|            0|         0|            0|    0|            0|                    0|\n",
      "+--------+------------+-----------------+------------+-------------+----------+-------------+-----+-------------+---------------------+\n",
      "\n"
     ]
    }
   ],
   "source": [
    "# Valores nulos\n",
    "\n",
    "df_join.select([f.count(f.when(f.isnull(col),1)).alias(col) for col in df_join.columns]).show()"
   ]
  },
  {
   "cell_type": "code",
   "execution_count": 304,
   "metadata": {},
   "outputs": [
    {
     "name": "stdout",
     "output_type": "stream",
     "text": [
      "+--------+------------+-----------------+------------+-------------+----------+-------------+-----+-------------+---------------------+\n",
      "|order_id|order_status|order_approved_at|payment_type|payment_value|product_id|order_item_id|price|freight_value|product_category_name|\n",
      "+--------+------------+-----------------+------------+-------------+----------+-------------+-----+-------------+---------------------+\n",
      "|       0|           0|                0|           0|            0|         0|            0|    0|            0|                    0|\n",
      "+--------+------------+-----------------+------------+-------------+----------+-------------+-----+-------------+---------------------+\n",
      "\n"
     ]
    }
   ],
   "source": [
    "# Valores na\n",
    "\n",
    "df_join.select([f.count(f.when(f.isnan(col),1)).alias(col) for col in df_join.columns]).show()"
   ]
  },
  {
   "cell_type": "code",
   "execution_count": 247,
   "metadata": {},
   "outputs": [
    {
     "data": {
      "text/plain": [
       "74"
      ]
     },
     "execution_count": 247,
     "metadata": {},
     "output_type": "execute_result"
    }
   ],
   "source": [
    "# Quantidade de categorias\n",
    "\n",
    "df_join.select('product_category_name').distinct().count()"
   ]
  },
  {
   "cell_type": "code",
   "execution_count": 336,
   "metadata": {},
   "outputs": [
    {
     "name": "stdout",
     "output_type": "stream",
     "text": [
      "+---------------------+-----------+--------------------+\n",
      "|product_category_name|qtd_pedidos|vl_total_cat_produto|\n",
      "+---------------------+-----------+--------------------+\n",
      "|         beleza_saude|       9972|          1392740.21|\n",
      "|   relogios_presentes|       6201|          1308221.20|\n",
      "|      cama_mesa_banho|      11823|          1293400.65|\n",
      "| informatica_acess...|       8082|          1167296.08|\n",
      "|        esporte_lazer|       8945|          1121122.26|\n",
      "+---------------------+-----------+--------------------+\n",
      "only showing top 5 rows\n",
      "\n"
     ]
    }
   ],
   "source": [
    "# Tabela auxiliar\n",
    "\n",
    "df_aux = df_join\\\n",
    "    .where(\"product_category_name NOT IN ('', ' ')\")\\\n",
    "    .groupBy('product_category_name')\\\n",
    "    .agg(\n",
    "        f.count('order_id').alias('qtd_pedidos'),\n",
    "        f.sum(df_join.order_item_id * df_join.price).cast(DecimalType(10,2)).alias('vl_total_cat_produto')\n",
    "    )\\\n",
    "    .orderBy('vl_total_cat_produto', ascending = False)\n",
    "\n",
    "df_aux.show(5)"
   ]
  },
  {
   "cell_type": "code",
   "execution_count": 306,
   "metadata": {},
   "outputs": [
    {
     "name": "stdout",
     "output_type": "stream",
     "text": [
      "root\n",
      " |-- product_category_name: string (nullable = true)\n",
      " |-- qtd_pedidos: long (nullable = false)\n",
      " |-- vl_total_cat_produto: decimal(10,2) (nullable = true)\n",
      "\n"
     ]
    }
   ],
   "source": [
    "df_aux.printSchema()"
   ]
  },
  {
   "cell_type": "code",
   "execution_count": 339,
   "metadata": {},
   "outputs": [
    {
     "data": {
      "image/png": "[encoded data removed]",
      "text/plain": [
       "<Figure size 1200x600 with 2 Axes>"
      ]
     },
     "metadata": {},
     "output_type": "display_data"
    }
   ],
   "source": [
    "fig, ax = plt.subplots(figsize=(12,6))\n",
    "ax2 = ax.twinx()\n",
    "\n",
    "ax.set_title('Quantidade de pedidos e valor total por categoria de produtos\\nTop 20', fontfamily = 'arial', fontsize = 18, fontweight = 'bold', loc = 'left')\n",
    "ax.xaxis.set_tick_params(labelsize = 9, rotation = 65)\n",
    "ax.yaxis.set_tick_params(labelsize = 9)\n",
    "ax.set_ylabel('Quantidade de pedidos', fontsize = 9)\n",
    "ax.bar(\n",
    "    x = df_aux.toPandas().set_index('product_category_name').head(20).index,\n",
    "    height = df_aux.toPandas()['qtd_pedidos'].head(20),\n",
    "    color = 'mediumblue'\n",
    ")\n",
    "ax2.yaxis.set_tick_params(labelsize = 9)\n",
    "ax2.set_ylabel('Valor da categoria (Milhões)', fontsize = 9)\n",
    "ax2.plot(df_aux.toPandas().set_index('product_category_name')['vl_total_cat_produto'].astype('float').head(20), color = 'lightseagreen')\n",
    "\n",
    "plt.grid(True, which = 'both', linewidth = .3)"
   ]
  },
  {
   "cell_type": "markdown",
   "metadata": {},
   "source": [
    "- Os produtos da categoria de beleza e saúde apesar de não possuirem maior volumetria de pedidos, são responsáveis pelo maior montante em valor. \n",
    "- Outra categoria que vale destacar é a de relogios e presentes, tendo cerca de metade dos pedidos da categoria com maior volumetria e sendo responsável por um montante em valor superior."
   ]
  }
 ],
 "metadata": {
  "kernelspec": {
   "display_name": "env",
   "language": "python",
   "name": "python3"
  },
  "language_info": {
   "codemirror_mode": {
    "name": "ipython",
    "version": 3
   },
   "file_extension": ".py",
   "mimetype": "text/x-python",
   "name": "python",
   "nbconvert_exporter": "python",
   "pygments_lexer": "ipython3",
   "version": "3.9.13"
  }
 },
 "nbformat": 4,
 "nbformat_minor": 2
}
